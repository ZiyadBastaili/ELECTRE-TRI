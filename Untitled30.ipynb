{
  "cells": [
    {
      "cell_type": "markdown",
      "metadata": {
        "id": "view-in-github",
        "colab_type": "text"
      },
      "source": [
        "<a href=\"https://colab.research.google.com/github/ZiyadBastaili/ELECTRE-TRI/blob/main/Untitled30.ipynb\" target=\"_parent\"><img src=\"https://colab.research.google.com/assets/colab-badge.svg\" alt=\"Open In Colab\"/></a>"
      ]
    },
    {
      "cell_type": "code",
      "execution_count": 84,
      "metadata": {
        "id": "FhGOwu3mY0T0"
      },
      "outputs": [],
      "source": [
        "import pandas\n",
        "import os\n",
        "os.chdir('/content')\n",
        "#chargement de la première feuille de données\n",
        "X = pandas.read_excel(\"file.xlsx\",sheet_name=0,header=0,index_col=0)"
      ]
    },
    {
      "cell_type": "code",
      "execution_count": 85,
      "metadata": {
        "colab": {
          "base_uri": "https://localhost:8080/",
          "height": 332
        },
        "id": "oYownrFdaLeQ",
        "outputId": "82bce126-35f9-49ad-ef10-6a7a545ee00a"
      },
      "outputs": [
        {
          "output_type": "execute_result",
          "data": {
            "text/html": [
              "\n",
              "  <div id=\"df-3e1e6ac4-0467-4028-8368-76c24ef26c3b\">\n",
              "    <div class=\"colab-df-container\">\n",
              "      <div>\n",
              "<style scoped>\n",
              "    .dataframe tbody tr th:only-of-type {\n",
              "        vertical-align: middle;\n",
              "    }\n",
              "\n",
              "    .dataframe tbody tr th {\n",
              "        vertical-align: top;\n",
              "    }\n",
              "\n",
              "    .dataframe thead th {\n",
              "        text-align: right;\n",
              "    }\n",
              "</style>\n",
              "<table border=\"1\" class=\"dataframe\">\n",
              "  <thead>\n",
              "    <tr style=\"text-align: right;\">\n",
              "      <th></th>\n",
              "      <th>Critere 1</th>\n",
              "      <th>Critere 2</th>\n",
              "      <th>Critere 3</th>\n",
              "      <th>Critere 4</th>\n",
              "      <th>Critere 5</th>\n",
              "    </tr>\n",
              "    <tr>\n",
              "      <th>Actions</th>\n",
              "      <th></th>\n",
              "      <th></th>\n",
              "      <th></th>\n",
              "      <th></th>\n",
              "      <th></th>\n",
              "    </tr>\n",
              "  </thead>\n",
              "  <tbody>\n",
              "    <tr>\n",
              "      <th>Action 1</th>\n",
              "      <td>0.72</td>\n",
              "      <td>3.65</td>\n",
              "      <td>1.34</td>\n",
              "      <td>0.62</td>\n",
              "      <td>44.34</td>\n",
              "    </tr>\n",
              "    <tr>\n",
              "      <th>Action 2</th>\n",
              "      <td>0.80</td>\n",
              "      <td>3.94</td>\n",
              "      <td>1.43</td>\n",
              "      <td>0.74</td>\n",
              "      <td>36.36</td>\n",
              "    </tr>\n",
              "    <tr>\n",
              "      <th>Action 3</th>\n",
              "      <td>0.76</td>\n",
              "      <td>3.63</td>\n",
              "      <td>1.38</td>\n",
              "      <td>0.89</td>\n",
              "      <td>48.75</td>\n",
              "    </tr>\n",
              "    <tr>\n",
              "      <th>Action 4</th>\n",
              "      <td>0.78</td>\n",
              "      <td>3.74</td>\n",
              "      <td>1.45</td>\n",
              "      <td>0.72</td>\n",
              "      <td>42.13</td>\n",
              "    </tr>\n",
              "    <tr>\n",
              "      <th>Action 5</th>\n",
              "      <td>0.74</td>\n",
              "      <td>3.54</td>\n",
              "      <td>1.37</td>\n",
              "      <td>0.73</td>\n",
              "      <td>36.99</td>\n",
              "    </tr>\n",
              "    <tr>\n",
              "      <th>Action 6</th>\n",
              "      <td>0.69</td>\n",
              "      <td>3.74</td>\n",
              "      <td>1.45</td>\n",
              "      <td>0.84</td>\n",
              "      <td>42.43</td>\n",
              "    </tr>\n",
              "    <tr>\n",
              "      <th>Action 7</th>\n",
              "      <td>0.70</td>\n",
              "      <td>3.28</td>\n",
              "      <td>1.28</td>\n",
              "      <td>0.83</td>\n",
              "      <td>47.43</td>\n",
              "    </tr>\n",
              "    <tr>\n",
              "      <th>Action 8</th>\n",
              "      <td>0.86</td>\n",
              "      <td>3.37</td>\n",
              "      <td>1.15</td>\n",
              "      <td>0.80</td>\n",
              "      <td>80.79</td>\n",
              "    </tr>\n",
              "  </tbody>\n",
              "</table>\n",
              "</div>\n",
              "      <button class=\"colab-df-convert\" onclick=\"convertToInteractive('df-3e1e6ac4-0467-4028-8368-76c24ef26c3b')\"\n",
              "              title=\"Convert this dataframe to an interactive table.\"\n",
              "              style=\"display:none;\">\n",
              "        \n",
              "  <svg xmlns=\"http://www.w3.org/2000/svg\" height=\"24px\"viewBox=\"0 0 24 24\"\n",
              "       width=\"24px\">\n",
              "    <path d=\"M0 0h24v24H0V0z\" fill=\"none\"/>\n",
              "    <path d=\"M18.56 5.44l.94 2.06.94-2.06 2.06-.94-2.06-.94-.94-2.06-.94 2.06-2.06.94zm-11 1L8.5 8.5l.94-2.06 2.06-.94-2.06-.94L8.5 2.5l-.94 2.06-2.06.94zm10 10l.94 2.06.94-2.06 2.06-.94-2.06-.94-.94-2.06-.94 2.06-2.06.94z\"/><path d=\"M17.41 7.96l-1.37-1.37c-.4-.4-.92-.59-1.43-.59-.52 0-1.04.2-1.43.59L10.3 9.45l-7.72 7.72c-.78.78-.78 2.05 0 2.83L4 21.41c.39.39.9.59 1.41.59.51 0 1.02-.2 1.41-.59l7.78-7.78 2.81-2.81c.8-.78.8-2.07 0-2.86zM5.41 20L4 18.59l7.72-7.72 1.47 1.35L5.41 20z\"/>\n",
              "  </svg>\n",
              "      </button>\n",
              "      \n",
              "  <style>\n",
              "    .colab-df-container {\n",
              "      display:flex;\n",
              "      flex-wrap:wrap;\n",
              "      gap: 12px;\n",
              "    }\n",
              "\n",
              "    .colab-df-convert {\n",
              "      background-color: #E8F0FE;\n",
              "      border: none;\n",
              "      border-radius: 50%;\n",
              "      cursor: pointer;\n",
              "      display: none;\n",
              "      fill: #1967D2;\n",
              "      height: 32px;\n",
              "      padding: 0 0 0 0;\n",
              "      width: 32px;\n",
              "    }\n",
              "\n",
              "    .colab-df-convert:hover {\n",
              "      background-color: #E2EBFA;\n",
              "      box-shadow: 0px 1px 2px rgba(60, 64, 67, 0.3), 0px 1px 3px 1px rgba(60, 64, 67, 0.15);\n",
              "      fill: #174EA6;\n",
              "    }\n",
              "\n",
              "    [theme=dark] .colab-df-convert {\n",
              "      background-color: #3B4455;\n",
              "      fill: #D2E3FC;\n",
              "    }\n",
              "\n",
              "    [theme=dark] .colab-df-convert:hover {\n",
              "      background-color: #434B5C;\n",
              "      box-shadow: 0px 1px 3px 1px rgba(0, 0, 0, 0.15);\n",
              "      filter: drop-shadow(0px 1px 2px rgba(0, 0, 0, 0.3));\n",
              "      fill: #FFFFFF;\n",
              "    }\n",
              "  </style>\n",
              "\n",
              "      <script>\n",
              "        const buttonEl =\n",
              "          document.querySelector('#df-3e1e6ac4-0467-4028-8368-76c24ef26c3b button.colab-df-convert');\n",
              "        buttonEl.style.display =\n",
              "          google.colab.kernel.accessAllowed ? 'block' : 'none';\n",
              "\n",
              "        async function convertToInteractive(key) {\n",
              "          const element = document.querySelector('#df-3e1e6ac4-0467-4028-8368-76c24ef26c3b');\n",
              "          const dataTable =\n",
              "            await google.colab.kernel.invokeFunction('convertToInteractive',\n",
              "                                                     [key], {});\n",
              "          if (!dataTable) return;\n",
              "\n",
              "          const docLinkHtml = 'Like what you see? Visit the ' +\n",
              "            '<a target=\"_blank\" href=https://colab.research.google.com/notebooks/data_table.ipynb>data table notebook</a>'\n",
              "            + ' to learn more about interactive tables.';\n",
              "          element.innerHTML = '';\n",
              "          dataTable['output_type'] = 'display_data';\n",
              "          await google.colab.output.renderOutput(dataTable, element);\n",
              "          const docLink = document.createElement('div');\n",
              "          docLink.innerHTML = docLinkHtml;\n",
              "          element.appendChild(docLink);\n",
              "        }\n",
              "      </script>\n",
              "    </div>\n",
              "  </div>\n",
              "  "
            ],
            "text/plain": [
              "          Critere 1  Critere 2  Critere 3  Critere 4  Critere 5\n",
              "Actions                                                        \n",
              "Action 1       0.72       3.65       1.34       0.62      44.34\n",
              "Action 2       0.80       3.94       1.43       0.74      36.36\n",
              "Action 3       0.76       3.63       1.38       0.89      48.75\n",
              "Action 4       0.78       3.74       1.45       0.72      42.13\n",
              "Action 5       0.74       3.54       1.37       0.73      36.99\n",
              "Action 6       0.69       3.74       1.45       0.84      42.43\n",
              "Action 7       0.70       3.28       1.28       0.83      47.43\n",
              "Action 8       0.86       3.37       1.15       0.80      80.79"
            ]
          },
          "metadata": {},
          "execution_count": 85
        }
      ],
      "source": [
        "X"
      ]
    },
    {
      "cell_type": "code",
      "execution_count": 86,
      "metadata": {
        "colab": {
          "base_uri": "https://localhost:8080/",
          "height": 0
        },
        "id": "iqVjpyDzahRr",
        "outputId": "07a3ce6a-1acd-4ded-8a5a-822d715c5008"
      },
      "outputs": [
        {
          "output_type": "stream",
          "name": "stdout",
          "text": [
            "(8, 5)\n",
            "          Critere 1  Critere 2  Critere 3  Critere 4  Critere 5\n",
            "Actions                                                        \n",
            "Action 1       0.72       3.65       1.34       0.62      44.34\n",
            "Action 2       0.80       3.94       1.43       0.74      36.36\n",
            "Action 3       0.76       3.63       1.38       0.89      48.75\n",
            "Action 4       0.78       3.74       1.45       0.72      42.13\n",
            "Action 5       0.74       3.54       1.37       0.73      36.99\n",
            "Action 6       0.69       3.74       1.45       0.84      42.43\n",
            "Action 7       0.70       3.28       1.28       0.83      47.43\n",
            "Action 8       0.86       3.37       1.15       0.80      80.79\n"
          ]
        }
      ],
      "source": [
        "#dimension\n",
        "print(X.shape) # (18, 6)\n",
        "#nombre d'observations\n",
        "n = X.shape[0]\n",
        "#nombre de variables\n",
        "p = X.shape[1]\n",
        "#affichage des données\n",
        "print(X)"
      ]
    },
    {
      "cell_type": "code",
      "execution_count": 87,
      "metadata": {
        "colab": {
          "base_uri": "https://localhost:8080/",
          "height": 0
        },
        "id": "O-tOicQlaoXb",
        "outputId": "d9d43e3f-c1ce-428c-cc66-1751b9275fe4"
      },
      "outputs": [
        {
          "output_type": "stream",
          "name": "stdout",
          "text": [
            "[[-6.85251832e-01  1.94945421e-01 -1.70830955e-01 -1.88901154e+00\n",
            "  -2.30778861e-01]\n",
            " [ 8.27028073e-01  1.65389180e+00  7.75309721e-01 -3.90291641e-01\n",
            "  -8.32122637e-01]\n",
            " [ 7.08881205e-02  9.43284297e-02  2.49676012e-01  1.48310824e+00\n",
            "   1.01542699e-01]\n",
            " [ 4.48958097e-01  6.47721884e-01  9.85563204e-01 -6.40078292e-01\n",
            "  -3.97316423e-01]\n",
            " [-3.07181856e-01 -3.58448033e-01  1.44549270e-01 -5.15184966e-01\n",
            "  -7.84648129e-01]\n",
            " [-1.25235680e+00  6.47721884e-01  9.85563204e-01  8.58641611e-01\n",
            "  -3.74709515e-01]\n",
            " [-1.06332181e+00 -1.66646892e+00 -8.01591406e-01  7.33748285e-01\n",
            "   2.07229998e-03]\n",
            " [ 1.96123800e+00 -1.21369246e+00 -2.16823905e+00  3.59068310e-01\n",
            "   2.51596057e+00]]\n"
          ]
        }
      ],
      "source": [
        "import sklearn\n",
        "#classe pour standardisation\n",
        "from sklearn.preprocessing import StandardScaler\n",
        "#instanciation\n",
        "sc = StandardScaler()\n",
        "#transformation – centrage-réduction\n",
        "Z = sc.fit_transform(X)\n",
        "print(Z)"
      ]
    },
    {
      "cell_type": "code",
      "execution_count": 88,
      "metadata": {
        "colab": {
          "base_uri": "https://localhost:8080/",
          "height": 0
        },
        "id": "Co7SPjpsaw1s",
        "outputId": "65b41431-91a0-44c5-8020-2d346c9ee21c"
      },
      "outputs": [
        {
          "output_type": "stream",
          "name": "stdout",
          "text": [
            "[-1.84574578e-15 -3.33066907e-16  3.05311332e-16 -2.77555756e-17\n",
            "  3.88578059e-16]\n"
          ]
        }
      ],
      "source": [
        "#vérification - librairie numpy\n",
        "import numpy\n",
        "#moyenne\n",
        "print(numpy.mean(Z,axis=0))"
      ]
    },
    {
      "cell_type": "code",
      "execution_count": 89,
      "metadata": {
        "colab": {
          "base_uri": "https://localhost:8080/",
          "height": 0
        },
        "id": "m8DL31kfa1vh",
        "outputId": "422e956c-8e89-40e2-a292-61827834ca08"
      },
      "outputs": [
        {
          "output_type": "stream",
          "name": "stdout",
          "text": [
            "[1. 1. 1. 1. 1.]\n"
          ]
        }
      ],
      "source": [
        "#écart-type\n",
        "print(numpy.std(Z,axis=0,ddof=0))"
      ]
    },
    {
      "cell_type": "code",
      "execution_count": 90,
      "metadata": {
        "id": "SX1COlRua4lr"
      },
      "outputs": [],
      "source": [
        "#classe pour l'ACP\n",
        "from sklearn.decomposition import PCA\n",
        "#instanciation\n",
        "acp = PCA(svd_solver='full')"
      ]
    },
    {
      "cell_type": "code",
      "execution_count": 91,
      "metadata": {
        "colab": {
          "base_uri": "https://localhost:8080/",
          "height": 0
        },
        "id": "UsfUsqRZa6xc",
        "outputId": "1b9d8c2d-df73-463c-87b7-9e3fbd656cc0"
      },
      "outputs": [
        {
          "output_type": "stream",
          "name": "stdout",
          "text": [
            "PCA(svd_solver='full')\n"
          ]
        }
      ],
      "source": [
        "#affichage des paramètres\n",
        "print(acp)"
      ]
    },
    {
      "cell_type": "code",
      "execution_count": 92,
      "metadata": {
        "colab": {
          "base_uri": "https://localhost:8080/",
          "height": 0
        },
        "id": "2Tvl0EP8a9t7",
        "outputId": "24f9fd0f-4174-4688-f2fc-c67efecfd1f5"
      },
      "outputs": [
        {
          "output_type": "stream",
          "name": "stdout",
          "text": [
            "5\n"
          ]
        }
      ],
      "source": [
        "#calculs\n",
        "coord = acp.fit_transform(Z)\n",
        "#nombre de composantes calculées\n",
        "print(acp.n_components_) "
      ]
    },
    {
      "cell_type": "code",
      "execution_count": 93,
      "metadata": {
        "colab": {
          "base_uri": "https://localhost:8080/",
          "height": 0
        },
        "id": "j8S8GGfKa_Vz",
        "outputId": "5977135c-65d0-4539-ff0a-66d84011c06e"
      },
      "outputs": [
        {
          "output_type": "stream",
          "name": "stdout",
          "text": [
            "[3.19284935 1.34517835 0.98011171 0.14729727 0.04884903]\n"
          ]
        }
      ],
      "source": [
        "#variance expliquée\n",
        "print(acp.explained_variance_)"
      ]
    },
    {
      "cell_type": "code",
      "execution_count": 94,
      "metadata": {
        "colab": {
          "base_uri": "https://localhost:8080/",
          "height": 0
        },
        "id": "iNC7-qPLa_Te",
        "outputId": "df6659c0-2a8e-4154-9f4c-f62998ec3c31"
      },
      "outputs": [
        {
          "output_type": "stream",
          "name": "stdout",
          "text": [
            "[2.79374318 1.17703106 0.85759775 0.12888511 0.0427429 ]\n"
          ]
        }
      ],
      "source": [
        "#valeur corrigée\n",
        "eigval = (n-1)/n*acp.explained_variance_\n",
        "print(eigval)"
      ]
    },
    {
      "cell_type": "code",
      "execution_count": 95,
      "metadata": {
        "colab": {
          "base_uri": "https://localhost:8080/",
          "height": 0
        },
        "id": "_RtLoly1a_RH",
        "outputId": "1efcaee5-1b69-4bd0-9fc4-696afa9b59e5"
      },
      "outputs": [
        {
          "output_type": "stream",
          "name": "stdout",
          "text": [
            "[2.79374318 1.17703106 0.85759775 0.12888511 0.0427429 ]\n"
          ]
        }
      ],
      "source": [
        "#ou bien en passant par les valeurs singulières\n",
        "print(acp.singular_values_**2/n)"
      ]
    },
    {
      "cell_type": "code",
      "execution_count": 96,
      "metadata": {
        "colab": {
          "base_uri": "https://localhost:8080/",
          "height": 0
        },
        "id": "YsjtV9Eaa_Om",
        "outputId": "8bcd5612-f151-4671-b2b2-fbcfd8514e59"
      },
      "outputs": [
        {
          "output_type": "stream",
          "name": "stdout",
          "text": [
            "[0.55874864 0.23540621 0.17151955 0.02577702 0.00854858]\n"
          ]
        }
      ],
      "source": [
        "#proportion de variance expliquée\n",
        "print(acp.explained_variance_ratio_)"
      ]
    },
    {
      "cell_type": "code",
      "execution_count": 97,
      "metadata": {
        "colab": {
          "base_uri": "https://localhost:8080/",
          "height": 299
        },
        "id": "O65-KjPxa_MI",
        "outputId": "5323f57e-9984-4a0c-94ee-e26621208e36"
      },
      "outputs": [
        {
          "output_type": "display_data",
          "data": {
            "image/png": "[encoded data removed]",
            "text/plain": [
              "<Figure size 432x288 with 1 Axes>"
            ]
          },
          "metadata": {}
        }
      ],
      "source": [
        "#scree plot\n",
        "plt.plot(numpy.arange(1,p+1),eigval)\n",
        "plt.title(\"Scree plot\")\n",
        "plt.ylabel(\"Eigen values\")\n",
        "plt.xlabel(\"Factor number\")\n",
        "plt.show()"
      ]
    },
    {
      "cell_type": "code",
      "execution_count": 98,
      "metadata": {
        "id": "bxGdwqJ9a_Hi",
        "colab": {
          "base_uri": "https://localhost:8080/",
          "height": 299
        },
        "outputId": "3a5645b7-7a6f-4e2a-d5c3-538e1b3ed40b"
      },
      "outputs": [
        {
          "output_type": "display_data",
          "data": {
            "image/png": "[encoded data removed]",
            "text/plain": [
              "<Figure size 432x288 with 1 Axes>"
            ]
          },
          "metadata": {}
        }
      ],
      "source": [
        "#cumul de variance expliquée\n",
        "plt.plot(numpy.arange(1,p+1),numpy.cumsum(acp.explained_variance_ratio_))\n",
        "plt.title(\"Explained variance vs. # of factors\")\n",
        "plt.ylabel(\"Cumsum explained variance ratio\")\n",
        "plt.xlabel(\"Factor number\")\n",
        "plt.show()"
      ]
    },
    {
      "cell_type": "code",
      "execution_count": 99,
      "metadata": {
        "id": "K4T_6q4Ha_E9"
      },
      "outputs": [],
      "source": [
        "#seuils pour test des bâtons brisés\n",
        "bs = 1/numpy.arange(p,0,-1)\n",
        "bs = numpy.cumsum(bs)\n",
        "bs = bs[::-1]"
      ]
    },
    {
      "cell_type": "code",
      "execution_count": 100,
      "metadata": {
        "id": "j5RRo_IIa_CV",
        "colab": {
          "base_uri": "https://localhost:8080/",
          "height": 0
        },
        "outputId": "8ea8445c-e02b-44f3-dd9f-254a16ae6e62"
      },
      "outputs": [
        {
          "output_type": "stream",
          "name": "stdout",
          "text": [
            "   Val.Propre    Seuils\n",
            "0    2.793743  2.283333\n",
            "1    1.177031  1.283333\n",
            "2    0.857598  0.783333\n",
            "3    0.128885  0.450000\n",
            "4    0.042743  0.200000\n"
          ]
        }
      ],
      "source": [
        "#test des bâtons brisés\n",
        "print(pandas.DataFrame({'Val.Propre':eigval,'Seuils':bs}))"
      ]
    },
    {
      "cell_type": "code",
      "execution_count": 101,
      "metadata": {
        "id": "xTbrqNPca-_0",
        "colab": {
          "base_uri": "https://localhost:8080/",
          "height": 704
        },
        "outputId": "5dc2cd25-b19c-4757-84c0-acea8ee1957c"
      },
      "outputs": [
        {
          "output_type": "display_data",
          "data": {
            "image/png": "[encoded data removed]",
            "text/plain": [
              "<Figure size 864x864 with 1 Axes>"
            ]
          },
          "metadata": {}
        }
      ],
      "source": [
        "#positionnement des individus dans le premier plan\n",
        "fig, axes = plt.subplots(figsize=(12,12))\n",
        "axes.set_xlim(-6,6) #même limites en abscisse\n",
        "axes.set_ylim(-6,6) #et en ordonnée\n",
        "#placement des étiquettes des observations\n",
        "for i in range(n):\n",
        " plt.annotate(X.index[i],(coord[i,0],coord[i,1]))\n",
        "#ajouter les axes\n",
        "plt.plot([-6,6],[0,0],color='silver',linestyle='-',linewidth=1)\n",
        "plt.plot([0,0],[-6,6],color='silver',linestyle='-',linewidth=1)\n",
        "#affichage\n",
        "plt.show()"
      ]
    },
    {
      "cell_type": "markdown",
      "source": [
        "# ELECTRE TRI"
      ],
      "metadata": {
        "id": "ZTHdyL7wxpbw"
      }
    },
    {
      "cell_type": "code",
      "source": [
        "# Build Dir\n",
        "import os\n",
        "os.chdir('/content')\n",
        "CODE_DIR = 'code'\n",
        "\n",
        "# Clone Github Repository\n",
        "!git clone https://github.com/Valdecy/pyDecisions.git $CODE_DIR\n",
        "os.chdir(f'./{CODE_DIR}')\n",
        "\n",
        "# Required Libraries\n",
        "import numpy as np\n",
        "\n",
        "from py_decisions.electre.e_tri_b   import electre_tri_b"
      ],
      "metadata": {
        "colab": {
          "base_uri": "https://localhost:8080/",
          "height": 0
        },
        "id": "_wbmeK4vpdOK",
        "outputId": "5354b30c-7765-4067-b7a6-a5ee92676796"
      },
      "execution_count": 102,
      "outputs": [
        {
          "output_type": "stream",
          "name": "stdout",
          "text": [
            "fatal: destination path 'code' already exists and is not an empty directory.\n"
          ]
        }
      ]
    },
    {
      "cell_type": "code",
      "source": [
        "# Parameters \n",
        "Q = [ 0.02,  0.05,  0.02,  0.05,  2]\n",
        "P = [0.05, 0.1, 0.05, 0.1, 8]\n",
        "V = [0.15, 0.6, 0.25, 0.25, 15]\n",
        "W = [ 30,  30,  20,  10,  10]\n",
        "B = [[0.75, 3.5, 1.3, 0.73, 42], [0.8, 3.7, 1.37, 0.79, 43]]\n",
        "\n",
        "# Dataset\n",
        "dataset = np.array([\n",
        "                [0.72, 3.65, 1.340, 0.62, 44.340],   #a1\n",
        "                [0.8, 3.940, 1.430, 0.74, 36.360],   #a2\n",
        "                [0.76, 3.630, 1.380, 0.89, 48.750],    #a3\n",
        "                [0.78, 3.740, 1.450, 0.72, 42.130],    #a4\n",
        "                [0.74, 3.540, 1.370, 0.73, 36.990],    #a5\n",
        "                [0.69, 3.740, 1.450, 0.84, 42.430],    #a6\n",
        "                [0.7, 3.280, 1.280, 0.83, 47.430],    #a7\n",
        "                [0.86, 3.370, 1.150, 0.8, 80.790]    #a8\n",
        "                ])"
      ],
      "metadata": {
        "id": "WpDrd11_pYAG"
      },
      "execution_count": 103,
      "outputs": []
    },
    {
      "cell_type": "code",
      "source": [
        "import pandas as pd\n",
        "df = pd.DataFrame()\n",
        "j=0\n",
        "for i in np.linspace(0.6,0.8,5):\n",
        "  print('Lambda : ' + str(i))\n",
        "  print('Pessimiste :')\n",
        "  classification = electre_tri_b(dataset, W , Q , P , V , B , cut_level = i, verbose = False, rule = 'pc', graph = True)\n",
        "  df.insert(j, 'Pessimiste lambda = '+str(i), classification)\n",
        "  print('Optimiste :')\n",
        "  classification = electre_tri_b(dataset, W , Q , P , V , B , cut_level = i, verbose = False, rule = 'oc', graph = True)\n",
        "  print(\"-----------------------------------------------------------\")\n",
        "  df.insert(j+1, 'Optimiste lambda = '+str(i), classification)\n",
        "  j = j+1"
      ],
      "metadata": {
        "colab": {
          "base_uri": "https://localhost:8080/",
          "height": 2894
        },
        "id": "YWLkreOTsvqf",
        "outputId": "6bac050d-bbd8-4f7f-9af0-65e0ea912974"
      },
      "execution_count": 104,
      "outputs": [
        {
          "output_type": "stream",
          "name": "stdout",
          "text": [
            "Lambda : 0.6\n",
            "Pessimiste :\n"
          ]
        },
        {
          "output_type": "display_data",
          "data": {
            "image/png": "[encoded data removed]",
            "text/plain": [
              "<Figure size 432x288 with 1 Axes>"
            ]
          },
          "metadata": {}
        },
        {
          "output_type": "stream",
          "name": "stdout",
          "text": [
            "Optimiste :\n"
          ]
        },
        {
          "output_type": "display_data",
          "data": {
            "image/png": "[encoded data removed]",
            "text/plain": [
              "<Figure size 432x288 with 1 Axes>"
            ]
          },
          "metadata": {}
        },
        {
          "output_type": "stream",
          "name": "stdout",
          "text": [
            "-----------------------------------------------------------\n",
            "Lambda : 0.65\n",
            "Pessimiste :\n"
          ]
        },
        {
          "output_type": "display_data",
          "data": {
            "image/png": "[encoded data removed]",
            "text/plain": [
              "<Figure size 432x288 with 1 Axes>"
            ]
          },
          "metadata": {}
        },
        {
          "output_type": "stream",
          "name": "stdout",
          "text": [
            "Optimiste :\n"
          ]
        },
        {
          "output_type": "display_data",
          "data": {
            "image/png": "[encoded data removed]",
            "text/plain": [
              "<Figure size 432x288 with 1 Axes>"
            ]
          },
          "metadata": {}
        },
        {
          "output_type": "stream",
          "name": "stdout",
          "text": [
            "-----------------------------------------------------------\n",
            "Lambda : 0.7\n",
            "Pessimiste :\n"
          ]
        },
        {
          "output_type": "display_data",
          "data": {
            "image/png": "[encoded data removed]",
            "text/plain": [
              "<Figure size 432x288 with 1 Axes>"
            ]
          },
          "metadata": {}
        },
        {
          "output_type": "stream",
          "name": "stdout",
          "text": [
            "Optimiste :\n"
          ]
        },
        {
          "output_type": "display_data",
          "data": {
            "image/png": "[encoded data removed]",
            "text/plain": [
              "<Figure size 432x288 with 1 Axes>"
            ]
          },
          "metadata": {}
        },
        {
          "output_type": "stream",
          "name": "stdout",
          "text": [
            "-----------------------------------------------------------\n",
            "Lambda : 0.75\n",
            "Pessimiste :\n"
          ]
        },
        {
          "output_type": "display_data",
          "data": {
            "image/png": "[encoded data removed]",
            "text/plain": [
              "<Figure size 432x288 with 1 Axes>"
            ]
          },
          "metadata": {}
        },
        {
          "output_type": "stream",
          "name": "stdout",
          "text": [
            "Optimiste :\n"
          ]
        },
        {
          "output_type": "display_data",
          "data": {
            "image/png": "[encoded data removed]",
            "text/plain": [
              "<Figure size 432x288 with 1 Axes>"
            ]
          },
          "metadata": {}
        },
        {
          "output_type": "stream",
          "name": "stdout",
          "text": [
            "-----------------------------------------------------------\n",
            "Lambda : 0.8\n",
            "Pessimiste :\n"
          ]
        },
        {
          "output_type": "display_data",
          "data": {
            "image/png": "[encoded data removed]",
            "text/plain": [
              "<Figure size 432x288 with 1 Axes>"
            ]
          },
          "metadata": {}
        },
        {
          "output_type": "stream",
          "name": "stdout",
          "text": [
            "Optimiste :\n"
          ]
        },
        {
          "output_type": "display_data",
          "data": {
            "image/png": "[encoded data removed]",
            "text/plain": [
              "<Figure size 432x288 with 1 Axes>"
            ]
          },
          "metadata": {}
        },
        {
          "output_type": "stream",
          "name": "stdout",
          "text": [
            "-----------------------------------------------------------\n"
          ]
        }
      ]
    },
    {
      "cell_type": "code",
      "source": [
        "df.index = ['a' + str(i) for i in np.arange(1, len(df)+1)]\n",
        "df"
      ],
      "metadata": {
        "colab": {
          "base_uri": "https://localhost:8080/",
          "height": 362
        },
        "id": "9E7IH2d8wCM_",
        "outputId": "ff8415bc-e0f9-461d-87af-900511ea7f87"
      },
      "execution_count": 105,
      "outputs": [
        {
          "output_type": "execute_result",
          "data": {
            "text/html": [
              "\n",
              "  <div id=\"df-b5be3c0d-a8f0-4030-b9ce-4bbcc6731224\">\n",
              "    <div class=\"colab-df-container\">\n",
              "      <div>\n",
              "<style scoped>\n",
              "    .dataframe tbody tr th:only-of-type {\n",
              "        vertical-align: middle;\n",
              "    }\n",
              "\n",
              "    .dataframe tbody tr th {\n",
              "        vertical-align: top;\n",
              "    }\n",
              "\n",
              "    .dataframe thead th {\n",
              "        text-align: right;\n",
              "    }\n",
              "</style>\n",
              "<table border=\"1\" class=\"dataframe\">\n",
              "  <thead>\n",
              "    <tr style=\"text-align: right;\">\n",
              "      <th></th>\n",
              "      <th>Pessimiste lambda = 0.6</th>\n",
              "      <th>Pessimiste lambda = 0.65</th>\n",
              "      <th>Pessimiste lambda = 0.7</th>\n",
              "      <th>Pessimiste lambda = 0.75</th>\n",
              "      <th>Pessimiste lambda = 0.8</th>\n",
              "      <th>Optimiste lambda = 0.8</th>\n",
              "      <th>Optimiste lambda = 0.75</th>\n",
              "      <th>Optimiste lambda = 0.7</th>\n",
              "      <th>Optimiste lambda = 0.65</th>\n",
              "      <th>Optimiste lambda = 0.6</th>\n",
              "    </tr>\n",
              "  </thead>\n",
              "  <tbody>\n",
              "    <tr>\n",
              "      <th>a1</th>\n",
              "      <td>1</td>\n",
              "      <td>1</td>\n",
              "      <td>1</td>\n",
              "      <td>1</td>\n",
              "      <td>1</td>\n",
              "      <td>1</td>\n",
              "      <td>1</td>\n",
              "      <td>1</td>\n",
              "      <td>1</td>\n",
              "      <td>1</td>\n",
              "    </tr>\n",
              "    <tr>\n",
              "      <th>a2</th>\n",
              "      <td>0</td>\n",
              "      <td>0</td>\n",
              "      <td>0</td>\n",
              "      <td>0</td>\n",
              "      <td>0</td>\n",
              "      <td>0</td>\n",
              "      <td>0</td>\n",
              "      <td>0</td>\n",
              "      <td>0</td>\n",
              "      <td>0</td>\n",
              "    </tr>\n",
              "    <tr>\n",
              "      <th>a3</th>\n",
              "      <td>1</td>\n",
              "      <td>1</td>\n",
              "      <td>1</td>\n",
              "      <td>1</td>\n",
              "      <td>1</td>\n",
              "      <td>1</td>\n",
              "      <td>1</td>\n",
              "      <td>1</td>\n",
              "      <td>0</td>\n",
              "      <td>0</td>\n",
              "    </tr>\n",
              "    <tr>\n",
              "      <th>a4</th>\n",
              "      <td>1</td>\n",
              "      <td>1</td>\n",
              "      <td>1</td>\n",
              "      <td>1</td>\n",
              "      <td>1</td>\n",
              "      <td>0</td>\n",
              "      <td>0</td>\n",
              "      <td>0</td>\n",
              "      <td>0</td>\n",
              "      <td>0</td>\n",
              "    </tr>\n",
              "    <tr>\n",
              "      <th>a5</th>\n",
              "      <td>2</td>\n",
              "      <td>2</td>\n",
              "      <td>2</td>\n",
              "      <td>2</td>\n",
              "      <td>2</td>\n",
              "      <td>1</td>\n",
              "      <td>1</td>\n",
              "      <td>1</td>\n",
              "      <td>1</td>\n",
              "      <td>1</td>\n",
              "    </tr>\n",
              "    <tr>\n",
              "      <th>a6</th>\n",
              "      <td>1</td>\n",
              "      <td>1</td>\n",
              "      <td>1</td>\n",
              "      <td>2</td>\n",
              "      <td>2</td>\n",
              "      <td>1</td>\n",
              "      <td>1</td>\n",
              "      <td>0</td>\n",
              "      <td>0</td>\n",
              "      <td>0</td>\n",
              "    </tr>\n",
              "    <tr>\n",
              "      <th>a7</th>\n",
              "      <td>2</td>\n",
              "      <td>2</td>\n",
              "      <td>2</td>\n",
              "      <td>2</td>\n",
              "      <td>2</td>\n",
              "      <td>2</td>\n",
              "      <td>2</td>\n",
              "      <td>2</td>\n",
              "      <td>2</td>\n",
              "      <td>2</td>\n",
              "    </tr>\n",
              "    <tr>\n",
              "      <th>a8</th>\n",
              "      <td>2</td>\n",
              "      <td>2</td>\n",
              "      <td>2</td>\n",
              "      <td>2</td>\n",
              "      <td>2</td>\n",
              "      <td>0</td>\n",
              "      <td>0</td>\n",
              "      <td>0</td>\n",
              "      <td>0</td>\n",
              "      <td>0</td>\n",
              "    </tr>\n",
              "  </tbody>\n",
              "</table>\n",
              "</div>\n",
              "      <button class=\"colab-df-convert\" onclick=\"convertToInteractive('df-b5be3c0d-a8f0-4030-b9ce-4bbcc6731224')\"\n",
              "              title=\"Convert this dataframe to an interactive table.\"\n",
              "              style=\"display:none;\">\n",
              "        \n",
              "  <svg xmlns=\"http://www.w3.org/2000/svg\" height=\"24px\"viewBox=\"0 0 24 24\"\n",
              "       width=\"24px\">\n",
              "    <path d=\"M0 0h24v24H0V0z\" fill=\"none\"/>\n",
              "    <path d=\"M18.56 5.44l.94 2.06.94-2.06 2.06-.94-2.06-.94-.94-2.06-.94 2.06-2.06.94zm-11 1L8.5 8.5l.94-2.06 2.06-.94-2.06-.94L8.5 2.5l-.94 2.06-2.06.94zm10 10l.94 2.06.94-2.06 2.06-.94-2.06-.94-.94-2.06-.94 2.06-2.06.94z\"/><path d=\"M17.41 7.96l-1.37-1.37c-.4-.4-.92-.59-1.43-.59-.52 0-1.04.2-1.43.59L10.3 9.45l-7.72 7.72c-.78.78-.78 2.05 0 2.83L4 21.41c.39.39.9.59 1.41.59.51 0 1.02-.2 1.41-.59l7.78-7.78 2.81-2.81c.8-.78.8-2.07 0-2.86zM5.41 20L4 18.59l7.72-7.72 1.47 1.35L5.41 20z\"/>\n",
              "  </svg>\n",
              "      </button>\n",
              "      \n",
              "  <style>\n",
              "    .colab-df-container {\n",
              "      display:flex;\n",
              "      flex-wrap:wrap;\n",
              "      gap: 12px;\n",
              "    }\n",
              "\n",
              "    .colab-df-convert {\n",
              "      background-color: #E8F0FE;\n",
              "      border: none;\n",
              "      border-radius: 50%;\n",
              "      cursor: pointer;\n",
              "      display: none;\n",
              "      fill: #1967D2;\n",
              "      height: 32px;\n",
              "      padding: 0 0 0 0;\n",
              "      width: 32px;\n",
              "    }\n",
              "\n",
              "    .colab-df-convert:hover {\n",
              "      background-color: #E2EBFA;\n",
              "      box-shadow: 0px 1px 2px rgba(60, 64, 67, 0.3), 0px 1px 3px 1px rgba(60, 64, 67, 0.15);\n",
              "      fill: #174EA6;\n",
              "    }\n",
              "\n",
              "    [theme=dark] .colab-df-convert {\n",
              "      background-color: #3B4455;\n",
              "      fill: #D2E3FC;\n",
              "    }\n",
              "\n",
              "    [theme=dark] .colab-df-convert:hover {\n",
              "      background-color: #434B5C;\n",
              "      box-shadow: 0px 1px 3px 1px rgba(0, 0, 0, 0.15);\n",
              "      filter: drop-shadow(0px 1px 2px rgba(0, 0, 0, 0.3));\n",
              "      fill: #FFFFFF;\n",
              "    }\n",
              "  </style>\n",
              "\n",
              "      <script>\n",
              "        const buttonEl =\n",
              "          document.querySelector('#df-b5be3c0d-a8f0-4030-b9ce-4bbcc6731224 button.colab-df-convert');\n",
              "        buttonEl.style.display =\n",
              "          google.colab.kernel.accessAllowed ? 'block' : 'none';\n",
              "\n",
              "        async function convertToInteractive(key) {\n",
              "          const element = document.querySelector('#df-b5be3c0d-a8f0-4030-b9ce-4bbcc6731224');\n",
              "          const dataTable =\n",
              "            await google.colab.kernel.invokeFunction('convertToInteractive',\n",
              "                                                     [key], {});\n",
              "          if (!dataTable) return;\n",
              "\n",
              "          const docLinkHtml = 'Like what you see? Visit the ' +\n",
              "            '<a target=\"_blank\" href=https://colab.research.google.com/notebooks/data_table.ipynb>data table notebook</a>'\n",
              "            + ' to learn more about interactive tables.';\n",
              "          element.innerHTML = '';\n",
              "          dataTable['output_type'] = 'display_data';\n",
              "          await google.colab.output.renderOutput(dataTable, element);\n",
              "          const docLink = document.createElement('div');\n",
              "          docLink.innerHTML = docLinkHtml;\n",
              "          element.appendChild(docLink);\n",
              "        }\n",
              "      </script>\n",
              "    </div>\n",
              "  </div>\n",
              "  "
            ],
            "text/plain": [
              "    Pessimiste lambda = 0.6  ...  Optimiste lambda = 0.6\n",
              "a1                        1  ...                       1\n",
              "a2                        0  ...                       0\n",
              "a3                        1  ...                       0\n",
              "a4                        1  ...                       0\n",
              "a5                        2  ...                       1\n",
              "a6                        1  ...                       0\n",
              "a7                        2  ...                       2\n",
              "a8                        2  ...                       0\n",
              "\n",
              "[8 rows x 10 columns]"
            ]
          },
          "metadata": {},
          "execution_count": 105
        }
      ]
    }
  ],
  "metadata": {
    "colab": {
      "name": "Untitled30.ipynb",
      "provenance": [],
      "collapsed_sections": [],
      "authorship_tag": "ABX9TyMlFr634YWXWHNW5t0q4S6C",
      "include_colab_link": true
    },
    "kernelspec": {
      "display_name": "Python 3",
      "name": "python3"
    },
    "language_info": {
      "name": "python"
    }
  },
  "nbformat": 4,
  "nbformat_minor": 0
}